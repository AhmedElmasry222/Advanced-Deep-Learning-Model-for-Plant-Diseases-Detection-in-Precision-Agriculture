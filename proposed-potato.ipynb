{
 "cells": [
  {
   "cell_type": "code",
   "execution_count": 1,
   "id": "cdf91ffe",
   "metadata": {
    "execution": {
     "iopub.execute_input": "2024-02-18T12:43:48.616413Z",
     "iopub.status.busy": "2024-02-18T12:43:48.616022Z",
     "iopub.status.idle": "2024-02-18T12:44:02.769252Z",
     "shell.execute_reply": "2024-02-18T12:44:02.768403Z"
    },
    "id": "zvP8pw6FhmeM",
    "outputId": "38657371-b3d9-4aee-9706-0284f2708292",
    "papermill": {
     "duration": 14.170877,
     "end_time": "2024-02-18T12:44:02.771627",
     "exception": false,
     "start_time": "2024-02-18T12:43:48.600750",
     "status": "completed"
    },
    "tags": []
   },
   "outputs": [
    {
     "name": "stderr",
     "output_type": "stream",
     "text": [
      "2024-02-18 12:43:50.361083: E external/local_xla/xla/stream_executor/cuda/cuda_dnn.cc:9261] Unable to register cuDNN factory: Attempting to register factory for plugin cuDNN when one has already been registered\n",
      "2024-02-18 12:43:50.361199: E external/local_xla/xla/stream_executor/cuda/cuda_fft.cc:607] Unable to register cuFFT factory: Attempting to register factory for plugin cuFFT when one has already been registered\n",
      "2024-02-18 12:43:50.490643: E external/local_xla/xla/stream_executor/cuda/cuda_blas.cc:1515] Unable to register cuBLAS factory: Attempting to register factory for plugin cuBLAS when one has already been registered\n"
     ]
    }
   ],
   "source": [
    "import numpy as np\n",
    "import tensorflow as tf\n",
    "from tensorflow import keras\n",
    "from tensorflow.keras import layers\n",
    "import tensorflow as tf\n",
    "import matplotlib.pyplot as plt\n",
    "from tensorflow.keras.preprocessing.image import ImageDataGenerator\n",
    "from PIL import Image\n",
    "import matplotlib.pyplot as plt\n",
    "import pandas as pd\n",
    "import numpy as np\n",
    "import seaborn as sb\n",
    "import os\n",
    "import warnings\n",
    "warnings.filterwarnings('ignore')\n",
    "import tensorflow as tf\n",
    "import glob as gb\n",
    "import cv2\n",
    "import keras\n",
    "from keras.applications import imagenet_utils\n",
    "from tensorflow.keras.optimizers import SGD,Adam\n",
    "\n",
    "from keras import backend as K\n",
    "from keras.models import Sequential, Model,load_model\n",
    "from keras.callbacks import EarlyStopping,ModelCheckpoint\n",
    "from keras.layers import Dropout, Input, Add,DepthwiseConv2D, Dense, Activation,SeparableConv1D,GlobalAveragePooling2D, ZeroPadding2D, BatchNormalization, Flatten, Conv2D, AveragePooling2D, MaxPooling2D, GlobalMaxPooling2D,MaxPool2D,Dropout\n",
    "from keras.preprocessing import image\n",
    "from keras.initializers import glorot_uniform\n",
    "\n",
    "from sklearn.metrics import accuracy_score\n",
    "from sklearn.metrics import precision_score\n",
    "from sklearn.metrics import recall_score\n",
    "from sklearn.metrics import f1_score\n",
    "from sklearn.metrics import roc_auc_score\n",
    "\n",
    "\n",
    "import matplotlib.pyplot as plt\n",
    "from sklearn.preprocessing import LabelBinarizer\n",
    "from sklearn.metrics import roc_curve, auc, roc_auc_score\n",
    "from itertools import cycle\n",
    "import itertools\n",
    "\n",
    "#Model Graphs\n",
    "from sklearn.metrics import confusion_matrix\n",
    "from sklearn.metrics import ConfusionMatrixDisplay"
   ]
  },
  {
   "cell_type": "code",
   "execution_count": 2,
   "id": "68863251",
   "metadata": {
    "execution": {
     "iopub.execute_input": "2024-02-18T12:44:02.800076Z",
     "iopub.status.busy": "2024-02-18T12:44:02.799096Z",
     "iopub.status.idle": "2024-02-18T12:44:02.805536Z",
     "shell.execute_reply": "2024-02-18T12:44:02.804732Z"
    },
    "papermill": {
     "duration": 0.022381,
     "end_time": "2024-02-18T12:44:02.807572",
     "exception": false,
     "start_time": "2024-02-18T12:44:02.785191",
     "status": "completed"
    },
    "tags": []
   },
   "outputs": [],
   "source": [
    "class DepthwiseSeparableConv2D(keras.layers.Layer):\n",
    "    \n",
    "    def __init__(self, filters, kernel_size):\n",
    "        super(DepthwiseSeparableConv2D, self).__init__()\n",
    "        self.depthwise = DepthwiseConv2D(kernel_size = kernel_size, padding = \"same\", activation = \"relu\")\n",
    "        self.pointwise = Conv2D(filters = filters, kernel_size = (1, 1), activation =\"relu\")\n",
    " \n",
    "    def call(self, input_tensor):\n",
    "        x = self.depthwise(input_tensor)\n",
    "        return self.pointwise(x)"
   ]
  },
  {
   "cell_type": "code",
   "execution_count": 3,
   "id": "02cdc161",
   "metadata": {
    "execution": {
     "iopub.execute_input": "2024-02-18T12:44:02.835136Z",
     "iopub.status.busy": "2024-02-18T12:44:02.834487Z",
     "iopub.status.idle": "2024-02-18T12:44:02.838593Z",
     "shell.execute_reply": "2024-02-18T12:44:02.837766Z"
    },
    "id": "XZIDSMdwNF3d",
    "papermill": {
     "duration": 0.019909,
     "end_time": "2024-02-18T12:44:02.840431",
     "exception": false,
     "start_time": "2024-02-18T12:44:02.820522",
     "status": "completed"
    },
    "tags": []
   },
   "outputs": [],
   "source": [
    "train_path='/kaggle/input/potato-disease-leaf-datasetpld/PLD_3_Classes_256/Training/'\n",
    "test_path='/kaggle/input/potato-disease-leaf-datasetpld/PLD_3_Classes_256/Testing/'\n",
    "val_path='/kaggle/input/potato-disease-leaf-datasetpld/PLD_3_Classes_256/Validation/'"
   ]
  },
  {
   "cell_type": "code",
   "execution_count": 4,
   "id": "1e0bedd1",
   "metadata": {
    "execution": {
     "iopub.execute_input": "2024-02-18T12:44:02.868445Z",
     "iopub.status.busy": "2024-02-18T12:44:02.867903Z",
     "iopub.status.idle": "2024-02-18T12:44:02.872553Z",
     "shell.execute_reply": "2024-02-18T12:44:02.871742Z"
    },
    "id": "IxP2BPegNF3f",
    "papermill": {
     "duration": 0.020185,
     "end_time": "2024-02-18T12:44:02.874410",
     "exception": false,
     "start_time": "2024-02-18T12:44:02.854225",
     "status": "completed"
    },
    "tags": []
   },
   "outputs": [],
   "source": [
    "traingen = tf.keras.preprocessing.image.ImageDataGenerator(\n",
    "                     #rescale=1./255,\n",
    "                    #rotation_range=45, \n",
    "                    #width_shift_range=.15, \n",
    "                    #height_shift_range=.15,\n",
    "                    #horizontal_flip=True, \n",
    "                    #zoom_range=0.5\n",
    ")\n",
    "testgen = tf.keras.preprocessing.image.ImageDataGenerator(\n",
    "#rescale=1./255\n",
    ")\n",
    "validgen =tf.keras.preprocessing.image.ImageDataGenerator(\n",
    "    #rescale=1./255\n",
    ")"
   ]
  },
  {
   "cell_type": "code",
   "execution_count": 5,
   "id": "54ddfda6",
   "metadata": {
    "execution": {
     "iopub.execute_input": "2024-02-18T12:44:02.900903Z",
     "iopub.status.busy": "2024-02-18T12:44:02.900651Z",
     "iopub.status.idle": "2024-02-18T12:44:05.293544Z",
     "shell.execute_reply": "2024-02-18T12:44:05.292458Z"
    },
    "id": "GuXw2uzFNF3h",
    "outputId": "67481c8a-a91a-4854-a60e-e744ce5bec97",
    "papermill": {
     "duration": 2.408512,
     "end_time": "2024-02-18T12:44:05.295664",
     "exception": false,
     "start_time": "2024-02-18T12:44:02.887152",
     "status": "completed"
    },
    "tags": []
   },
   "outputs": [
    {
     "name": "stdout",
     "output_type": "stream",
     "text": [
      "Found 3251 images belonging to 3 classes.\n",
      "Found 405 images belonging to 3 classes.\n",
      "Found 416 images belonging to 3 classes.\n"
     ]
    }
   ],
   "source": [
    "train_ds=traingen.flow_from_directory(batch_size=32,directory=train_path,shuffle=True,\n",
    "                                                 target_size=(224,224),class_mode='categorical',\n",
    "                                      #classes=[dir for dir in os.listdir(train_path) if \"Tomato\" in dir]\n",
    "                                     \n",
    "                                     )\n",
    "test_ds=traingen.flow_from_directory(batch_size=32,directory=test_path,shuffle=False,target_size=(224,224), \n",
    "                                                 class_mode='categorical',\n",
    "                                                 \n",
    "                                    \n",
    "                                    )\n",
    "\n",
    "val_ds=traingen.flow_from_directory(batch_size=32,directory=val_path,shuffle=True,target_size=(224,224), \n",
    "                                                 class_mode='categorical',\n",
    "                                   )"
   ]
  },
  {
   "cell_type": "code",
   "execution_count": 6,
   "id": "6aad1bca",
   "metadata": {
    "execution": {
     "iopub.execute_input": "2024-02-18T12:44:05.323720Z",
     "iopub.status.busy": "2024-02-18T12:44:05.322901Z",
     "iopub.status.idle": "2024-02-18T12:44:05.326935Z",
     "shell.execute_reply": "2024-02-18T12:44:05.326176Z"
    },
    "papermill": {
     "duration": 0.020027,
     "end_time": "2024-02-18T12:44:05.328900",
     "exception": false,
     "start_time": "2024-02-18T12:44:05.308873",
     "status": "completed"
    },
    "tags": []
   },
   "outputs": [],
   "source": [
    "from keras import backend"
   ]
  },
  {
   "cell_type": "code",
   "execution_count": 7,
   "id": "a61c5c26",
   "metadata": {
    "execution": {
     "iopub.execute_input": "2024-02-18T12:44:05.356166Z",
     "iopub.status.busy": "2024-02-18T12:44:05.355912Z",
     "iopub.status.idle": "2024-02-18T12:44:05.362975Z",
     "shell.execute_reply": "2024-02-18T12:44:05.362097Z"
    },
    "papermill": {
     "duration": 0.023124,
     "end_time": "2024-02-18T12:44:05.364963",
     "exception": false,
     "start_time": "2024-02-18T12:44:05.341839",
     "status": "completed"
    },
    "tags": []
   },
   "outputs": [],
   "source": [
    "def inceptionModuleA(x):\n",
    "    \n",
    "    branch1x1 = conv2d_bn(x, 64, 1, 1)\n",
    "\n",
    "    branch5x5 = conv2d_bn(x, 48, 1, 1)\n",
    "    ##branch5x5 = conv2d_bn(branch5x5, 64, 5, 5) 2Seprated\n",
    "    #branch5x5 = DepthwiseSeparableConv2D(16, (3, 3))(branch5x5)\n",
    "    branch5x5 = DepthwiseSeparableConv2D(16, (4, 4))(branch5x5)\n",
    "\n",
    "    branch3x3dbl = conv2d_bn(x, 64, 1, 1)\n",
    "    #branch3x3dbl = conv2d_bn(branch3x3dbl, 96, 3, 3)\n",
    "    #branch3x3dbl = conv2d_bn(branch3x3dbl, 96, 3, 3)  1 Seprated\n",
    "    #branch3x3dbl = DepthwiseSeparableConv2D( 32,( 3, 3))(branch3x3dbl)\n",
    "    branch3x3dbl = DepthwiseSeparableConv2D( 32,( 4, 4))(branch3x3dbl)\n",
    "    #branch3x3dbl = DepthwiseSeparableConv2D( 32,( 4, 4))(branch3x3dbl)\n",
    "\n",
    "    #branch3x3dbl = DepthwiseSeparableConv2D( 32,( 4, 4))(branch3x3dbl)\n",
    "\n",
    "\n",
    "\n",
    "    branch_pool = layers.MaxPooling2D((3, 3),\n",
    "                                          strides=(1, 1),\n",
    "                                          padding='same')(x)\n",
    "    branch_pool = conv2d_bn(branch_pool, 32, 1, 1)\n",
    "    x = layers.concatenate(\n",
    "        [branch1x1, branch5x5, branch3x3dbl, branch_pool],\n",
    "        axis=3,\n",
    "        )\n",
    "    return x"
   ]
  },
  {
   "cell_type": "code",
   "execution_count": 8,
   "id": "aef4cacd",
   "metadata": {
    "execution": {
     "iopub.execute_input": "2024-02-18T12:44:05.392957Z",
     "iopub.status.busy": "2024-02-18T12:44:05.392221Z",
     "iopub.status.idle": "2024-02-18T12:44:05.398127Z",
     "shell.execute_reply": "2024-02-18T12:44:05.397337Z"
    },
    "papermill": {
     "duration": 0.021777,
     "end_time": "2024-02-18T12:44:05.400024",
     "exception": false,
     "start_time": "2024-02-18T12:44:05.378247",
     "status": "completed"
    },
    "tags": []
   },
   "outputs": [],
   "source": [
    "def conv2d_bn(x,\n",
    "              filters,\n",
    "              num_row,\n",
    "              num_col,\n",
    "              padding='same',\n",
    "              strides=(1, 1),\n",
    "              name=None):\n",
    " \n",
    "    if backend.image_data_format() == 'channels_first':\n",
    "        bn_axis = 1\n",
    "    else:\n",
    "        bn_axis = 3\n",
    "    x = layers.Conv2D(\n",
    "        filters, (num_row, num_col),\n",
    "        strides=strides,\n",
    "        padding=padding,\n",
    "        use_bias=False,\n",
    "        )(x)\n",
    "    x = layers.Activation('relu', name=name)(x)\n",
    "    return x"
   ]
  },
  {
   "cell_type": "code",
   "execution_count": null,
   "id": "f7bd8d3b",
   "metadata": {
    "papermill": {
     "duration": 0.012744,
     "end_time": "2024-02-18T12:44:05.425879",
     "exception": false,
     "start_time": "2024-02-18T12:44:05.413135",
     "status": "completed"
    },
    "tags": []
   },
   "outputs": [],
   "source": []
  },
  {
   "cell_type": "code",
   "execution_count": 9,
   "id": "7d10dc2f",
   "metadata": {
    "execution": {
     "iopub.execute_input": "2024-02-18T12:44:05.452972Z",
     "iopub.status.busy": "2024-02-18T12:44:05.452670Z",
     "iopub.status.idle": "2024-02-18T12:44:05.477893Z",
     "shell.execute_reply": "2024-02-18T12:44:05.477021Z"
    },
    "papermill": {
     "duration": 0.041061,
     "end_time": "2024-02-18T12:44:05.479847",
     "exception": false,
     "start_time": "2024-02-18T12:44:05.438786",
     "status": "completed"
    },
    "tags": []
   },
   "outputs": [],
   "source": [
    "input = Input(shape =(224,224,3))"
   ]
  },
  {
   "cell_type": "code",
   "execution_count": null,
   "id": "d750ad78",
   "metadata": {
    "papermill": {
     "duration": 0.012665,
     "end_time": "2024-02-18T12:44:05.505513",
     "exception": false,
     "start_time": "2024-02-18T12:44:05.492848",
     "status": "completed"
    },
    "tags": []
   },
   "outputs": [],
   "source": []
  },
  {
   "cell_type": "code",
   "execution_count": 10,
   "id": "291ce0b6",
   "metadata": {
    "execution": {
     "iopub.execute_input": "2024-02-18T12:44:05.532446Z",
     "iopub.status.busy": "2024-02-18T12:44:05.532144Z",
     "iopub.status.idle": "2024-02-18T12:44:05.538140Z",
     "shell.execute_reply": "2024-02-18T12:44:05.537279Z"
    },
    "papermill": {
     "duration": 0.021652,
     "end_time": "2024-02-18T12:44:05.539998",
     "exception": false,
     "start_time": "2024-02-18T12:44:05.518346",
     "status": "completed"
    },
    "tags": []
   },
   "outputs": [],
   "source": [
    "class DepthwiseSeparableConv2D(keras.layers.Layer):\n",
    "    \n",
    "    def __init__(self, filters, kernel_size):\n",
    "        super(DepthwiseSeparableConv2D, self).__init__()\n",
    "        self.depthwise = DepthwiseConv2D(kernel_size = kernel_size, padding = \"same\", activation = \"relu\")\n",
    "        self.pointwise = Conv2D(filters = filters, kernel_size = (1, 1), activation =\"relu\")\n",
    " \n",
    "    def call(self, input_tensor):\n",
    "        x = self.depthwise(input_tensor)\n",
    "        return self.pointwise(x)"
   ]
  },
  {
   "cell_type": "code",
   "execution_count": 11,
   "id": "5857cb64",
   "metadata": {
    "execution": {
     "iopub.execute_input": "2024-02-18T12:44:05.567682Z",
     "iopub.status.busy": "2024-02-18T12:44:05.566950Z",
     "iopub.status.idle": "2024-02-18T12:44:05.572716Z",
     "shell.execute_reply": "2024-02-18T12:44:05.571867Z"
    },
    "papermill": {
     "duration": 0.021776,
     "end_time": "2024-02-18T12:44:05.574791",
     "exception": false,
     "start_time": "2024-02-18T12:44:05.553015",
     "status": "completed"
    },
    "tags": []
   },
   "outputs": [],
   "source": [
    "class SequencePooling(layers.Layer):\n",
    "    def __init__(self):\n",
    "        super().__init__()\n",
    "        self.attention = layers.Dense(1)\n",
    "\n",
    "    def call(self, x):\n",
    "        attention_weights = keras.activations(self.attention(x), axis=1)\n",
    "        attention_weights = tf.transpose(attention_weights, axes=(0, 2, 1))\n",
    "        weighted_representation = ktf.transpose(attention_weights, x)\n",
    "        return keras.ops.squeeze(weighted_representation, -2)"
   ]
  },
  {
   "cell_type": "code",
   "execution_count": 12,
   "id": "cd5f31f2",
   "metadata": {
    "execution": {
     "iopub.execute_input": "2024-02-18T12:44:05.602243Z",
     "iopub.status.busy": "2024-02-18T12:44:05.601971Z",
     "iopub.status.idle": "2024-02-18T12:44:06.954307Z",
     "shell.execute_reply": "2024-02-18T12:44:06.953534Z"
    },
    "papermill": {
     "duration": 1.368641,
     "end_time": "2024-02-18T12:44:06.956507",
     "exception": false,
     "start_time": "2024-02-18T12:44:05.587866",
     "status": "completed"
    },
    "tags": []
   },
   "outputs": [],
   "source": [
    "x = Conv2D (filters =64,kernel_size =3, padding ='same', activation='relu')(input)\n",
    "x = Conv2D (filters =64, kernel_size =3, padding ='same', activation='relu')(x)\n",
    "x = MaxPooling2D(pool_size=(2,2), strides=3)(x)\n",
    "\n",
    "\n",
    "x = inceptionModuleA(x)\n",
    "x = inceptionModuleA(x)\n",
    "x = inceptionModuleA(x)\n",
    "x = inceptionModuleA(x)\n",
    "\n",
    "x = inceptionModuleA(x)\n",
    "x = inceptionModuleA(x)\n",
    "\n",
    "\n",
    "\n",
    "\n",
    "\n",
    "x = layers.LayerNormalization(epsilon=1e-5)(x)\n",
    "\n",
    "\n",
    "#x = SequencePooling()(x)\n",
    "\n",
    "\n",
    "x = GlobalAveragePooling2D()(x)\n",
    "x = Dense(128)(x)\n",
    "x = Dropout(.2)(x)\n",
    "\n",
    "\n",
    "output = Dense(units = 3, activation ='softmax')(x)"
   ]
  },
  {
   "cell_type": "code",
   "execution_count": 13,
   "id": "e18bdc50",
   "metadata": {
    "execution": {
     "iopub.execute_input": "2024-02-18T12:44:06.983913Z",
     "iopub.status.busy": "2024-02-18T12:44:06.983602Z",
     "iopub.status.idle": "2024-02-18T12:44:07.203901Z",
     "shell.execute_reply": "2024-02-18T12:44:07.202768Z"
    },
    "papermill": {
     "duration": 0.293739,
     "end_time": "2024-02-18T12:44:07.263493",
     "exception": false,
     "start_time": "2024-02-18T12:44:06.969754",
     "status": "completed"
    },
    "tags": []
   },
   "outputs": [
    {
     "name": "stdout",
     "output_type": "stream",
     "text": [
      "Model: \"model\"\n",
      "__________________________________________________________________________________________________\n",
      " Layer (type)                Output Shape                 Param #   Connected to                  \n",
      "==================================================================================================\n",
      " input_1 (InputLayer)        [(None, 224, 224, 3)]        0         []                            \n",
      "                                                                                                  \n",
      " conv2d (Conv2D)             (None, 224, 224, 64)         1792      ['input_1[0][0]']             \n",
      "                                                                                                  \n",
      " conv2d_1 (Conv2D)           (None, 224, 224, 64)         36928     ['conv2d[0][0]']              \n",
      "                                                                                                  \n",
      " max_pooling2d (MaxPooling2  (None, 75, 75, 64)           0         ['conv2d_1[0][0]']            \n",
      " D)                                                                                               \n",
      "                                                                                                  \n",
      " conv2d_3 (Conv2D)           (None, 75, 75, 48)           3072      ['max_pooling2d[0][0]']       \n",
      "                                                                                                  \n",
      " conv2d_5 (Conv2D)           (None, 75, 75, 64)           4096      ['max_pooling2d[0][0]']       \n",
      "                                                                                                  \n",
      " max_pooling2d_1 (MaxPoolin  (None, 75, 75, 64)           0         ['max_pooling2d[0][0]']       \n",
      " g2D)                                                                                             \n",
      "                                                                                                  \n",
      " conv2d_2 (Conv2D)           (None, 75, 75, 64)           4096      ['max_pooling2d[0][0]']       \n",
      "                                                                                                  \n",
      " activation_1 (Activation)   (None, 75, 75, 48)           0         ['conv2d_3[0][0]']            \n",
      "                                                                                                  \n",
      " activation_2 (Activation)   (None, 75, 75, 64)           0         ['conv2d_5[0][0]']            \n",
      "                                                                                                  \n",
      " conv2d_7 (Conv2D)           (None, 75, 75, 32)           2048      ['max_pooling2d_1[0][0]']     \n",
      "                                                                                                  \n",
      " activation (Activation)     (None, 75, 75, 64)           0         ['conv2d_2[0][0]']            \n",
      "                                                                                                  \n",
      " depthwise_separable_conv2d  (None, 75, 75, 16)           1600      ['activation_1[0][0]']        \n",
      "  (DepthwiseSeparableConv2D                                                                       \n",
      " )                                                                                                \n",
      "                                                                                                  \n",
      " depthwise_separable_conv2d  (None, 75, 75, 32)           3168      ['activation_2[0][0]']        \n",
      " _1 (DepthwiseSeparableConv                                                                       \n",
      " 2D)                                                                                              \n",
      "                                                                                                  \n",
      " activation_3 (Activation)   (None, 75, 75, 32)           0         ['conv2d_7[0][0]']            \n",
      "                                                                                                  \n",
      " concatenate (Concatenate)   (None, 75, 75, 144)          0         ['activation[0][0]',          \n",
      "                                                                     'depthwise_separable_conv2d[0\n",
      "                                                                    ][0]',                        \n",
      "                                                                     'depthwise_separable_conv2d_1\n",
      "                                                                    [0][0]',                      \n",
      "                                                                     'activation_3[0][0]']        \n",
      "                                                                                                  \n",
      " conv2d_9 (Conv2D)           (None, 75, 75, 48)           6912      ['concatenate[0][0]']         \n",
      "                                                                                                  \n",
      " conv2d_11 (Conv2D)          (None, 75, 75, 64)           9216      ['concatenate[0][0]']         \n",
      "                                                                                                  \n",
      " max_pooling2d_2 (MaxPoolin  (None, 75, 75, 144)          0         ['concatenate[0][0]']         \n",
      " g2D)                                                                                             \n",
      "                                                                                                  \n",
      " conv2d_8 (Conv2D)           (None, 75, 75, 64)           9216      ['concatenate[0][0]']         \n",
      "                                                                                                  \n",
      " activation_5 (Activation)   (None, 75, 75, 48)           0         ['conv2d_9[0][0]']            \n",
      "                                                                                                  \n",
      " activation_6 (Activation)   (None, 75, 75, 64)           0         ['conv2d_11[0][0]']           \n",
      "                                                                                                  \n",
      " conv2d_13 (Conv2D)          (None, 75, 75, 32)           4608      ['max_pooling2d_2[0][0]']     \n",
      "                                                                                                  \n",
      " activation_4 (Activation)   (None, 75, 75, 64)           0         ['conv2d_8[0][0]']            \n",
      "                                                                                                  \n",
      " depthwise_separable_conv2d  (None, 75, 75, 16)           1600      ['activation_5[0][0]']        \n",
      " _2 (DepthwiseSeparableConv                                                                       \n",
      " 2D)                                                                                              \n",
      "                                                                                                  \n",
      " depthwise_separable_conv2d  (None, 75, 75, 32)           3168      ['activation_6[0][0]']        \n",
      " _3 (DepthwiseSeparableConv                                                                       \n",
      " 2D)                                                                                              \n",
      "                                                                                                  \n",
      " activation_7 (Activation)   (None, 75, 75, 32)           0         ['conv2d_13[0][0]']           \n",
      "                                                                                                  \n",
      " concatenate_1 (Concatenate  (None, 75, 75, 144)          0         ['activation_4[0][0]',        \n",
      " )                                                                   'depthwise_separable_conv2d_2\n",
      "                                                                    [0][0]',                      \n",
      "                                                                     'depthwise_separable_conv2d_3\n",
      "                                                                    [0][0]',                      \n",
      "                                                                     'activation_7[0][0]']        \n",
      "                                                                                                  \n",
      " conv2d_15 (Conv2D)          (None, 75, 75, 48)           6912      ['concatenate_1[0][0]']       \n",
      "                                                                                                  \n",
      " conv2d_17 (Conv2D)          (None, 75, 75, 64)           9216      ['concatenate_1[0][0]']       \n",
      "                                                                                                  \n",
      " max_pooling2d_3 (MaxPoolin  (None, 75, 75, 144)          0         ['concatenate_1[0][0]']       \n",
      " g2D)                                                                                             \n",
      "                                                                                                  \n",
      " conv2d_14 (Conv2D)          (None, 75, 75, 64)           9216      ['concatenate_1[0][0]']       \n",
      "                                                                                                  \n",
      " activation_9 (Activation)   (None, 75, 75, 48)           0         ['conv2d_15[0][0]']           \n",
      "                                                                                                  \n",
      " activation_10 (Activation)  (None, 75, 75, 64)           0         ['conv2d_17[0][0]']           \n",
      "                                                                                                  \n",
      " conv2d_19 (Conv2D)          (None, 75, 75, 32)           4608      ['max_pooling2d_3[0][0]']     \n",
      "                                                                                                  \n",
      " activation_8 (Activation)   (None, 75, 75, 64)           0         ['conv2d_14[0][0]']           \n",
      "                                                                                                  \n",
      " depthwise_separable_conv2d  (None, 75, 75, 16)           1600      ['activation_9[0][0]']        \n",
      " _4 (DepthwiseSeparableConv                                                                       \n",
      " 2D)                                                                                              \n",
      "                                                                                                  \n",
      " depthwise_separable_conv2d  (None, 75, 75, 32)           3168      ['activation_10[0][0]']       \n",
      " _5 (DepthwiseSeparableConv                                                                       \n",
      " 2D)                                                                                              \n",
      "                                                                                                  \n",
      " activation_11 (Activation)  (None, 75, 75, 32)           0         ['conv2d_19[0][0]']           \n",
      "                                                                                                  \n",
      " concatenate_2 (Concatenate  (None, 75, 75, 144)          0         ['activation_8[0][0]',        \n",
      " )                                                                   'depthwise_separable_conv2d_4\n",
      "                                                                    [0][0]',                      \n",
      "                                                                     'depthwise_separable_conv2d_5\n",
      "                                                                    [0][0]',                      \n",
      "                                                                     'activation_11[0][0]']       \n",
      "                                                                                                  \n",
      " conv2d_21 (Conv2D)          (None, 75, 75, 48)           6912      ['concatenate_2[0][0]']       \n",
      "                                                                                                  \n",
      " conv2d_23 (Conv2D)          (None, 75, 75, 64)           9216      ['concatenate_2[0][0]']       \n",
      "                                                                                                  \n",
      " max_pooling2d_4 (MaxPoolin  (None, 75, 75, 144)          0         ['concatenate_2[0][0]']       \n",
      " g2D)                                                                                             \n",
      "                                                                                                  \n",
      " conv2d_20 (Conv2D)          (None, 75, 75, 64)           9216      ['concatenate_2[0][0]']       \n",
      "                                                                                                  \n",
      " activation_13 (Activation)  (None, 75, 75, 48)           0         ['conv2d_21[0][0]']           \n",
      "                                                                                                  \n",
      " activation_14 (Activation)  (None, 75, 75, 64)           0         ['conv2d_23[0][0]']           \n",
      "                                                                                                  \n",
      " conv2d_25 (Conv2D)          (None, 75, 75, 32)           4608      ['max_pooling2d_4[0][0]']     \n",
      "                                                                                                  \n",
      " activation_12 (Activation)  (None, 75, 75, 64)           0         ['conv2d_20[0][0]']           \n",
      "                                                                                                  \n",
      " depthwise_separable_conv2d  (None, 75, 75, 16)           1600      ['activation_13[0][0]']       \n",
      " _6 (DepthwiseSeparableConv                                                                       \n",
      " 2D)                                                                                              \n",
      "                                                                                                  \n",
      " depthwise_separable_conv2d  (None, 75, 75, 32)           3168      ['activation_14[0][0]']       \n",
      " _7 (DepthwiseSeparableConv                                                                       \n",
      " 2D)                                                                                              \n",
      "                                                                                                  \n",
      " activation_15 (Activation)  (None, 75, 75, 32)           0         ['conv2d_25[0][0]']           \n",
      "                                                                                                  \n",
      " concatenate_3 (Concatenate  (None, 75, 75, 144)          0         ['activation_12[0][0]',       \n",
      " )                                                                   'depthwise_separable_conv2d_6\n",
      "                                                                    [0][0]',                      \n",
      "                                                                     'depthwise_separable_conv2d_7\n",
      "                                                                    [0][0]',                      \n",
      "                                                                     'activation_15[0][0]']       \n",
      "                                                                                                  \n",
      " conv2d_27 (Conv2D)          (None, 75, 75, 48)           6912      ['concatenate_3[0][0]']       \n",
      "                                                                                                  \n",
      " conv2d_29 (Conv2D)          (None, 75, 75, 64)           9216      ['concatenate_3[0][0]']       \n",
      "                                                                                                  \n",
      " max_pooling2d_5 (MaxPoolin  (None, 75, 75, 144)          0         ['concatenate_3[0][0]']       \n",
      " g2D)                                                                                             \n",
      "                                                                                                  \n",
      " conv2d_26 (Conv2D)          (None, 75, 75, 64)           9216      ['concatenate_3[0][0]']       \n",
      "                                                                                                  \n",
      " activation_17 (Activation)  (None, 75, 75, 48)           0         ['conv2d_27[0][0]']           \n",
      "                                                                                                  \n",
      " activation_18 (Activation)  (None, 75, 75, 64)           0         ['conv2d_29[0][0]']           \n",
      "                                                                                                  \n",
      " conv2d_31 (Conv2D)          (None, 75, 75, 32)           4608      ['max_pooling2d_5[0][0]']     \n",
      "                                                                                                  \n",
      " activation_16 (Activation)  (None, 75, 75, 64)           0         ['conv2d_26[0][0]']           \n",
      "                                                                                                  \n",
      " depthwise_separable_conv2d  (None, 75, 75, 16)           1600      ['activation_17[0][0]']       \n",
      " _8 (DepthwiseSeparableConv                                                                       \n",
      " 2D)                                                                                              \n",
      "                                                                                                  \n",
      " depthwise_separable_conv2d  (None, 75, 75, 32)           3168      ['activation_18[0][0]']       \n",
      " _9 (DepthwiseSeparableConv                                                                       \n",
      " 2D)                                                                                              \n",
      "                                                                                                  \n",
      " activation_19 (Activation)  (None, 75, 75, 32)           0         ['conv2d_31[0][0]']           \n",
      "                                                                                                  \n",
      " concatenate_4 (Concatenate  (None, 75, 75, 144)          0         ['activation_16[0][0]',       \n",
      " )                                                                   'depthwise_separable_conv2d_8\n",
      "                                                                    [0][0]',                      \n",
      "                                                                     'depthwise_separable_conv2d_9\n",
      "                                                                    [0][0]',                      \n",
      "                                                                     'activation_19[0][0]']       \n",
      "                                                                                                  \n",
      " conv2d_33 (Conv2D)          (None, 75, 75, 48)           6912      ['concatenate_4[0][0]']       \n",
      "                                                                                                  \n",
      " conv2d_35 (Conv2D)          (None, 75, 75, 64)           9216      ['concatenate_4[0][0]']       \n",
      "                                                                                                  \n",
      " max_pooling2d_6 (MaxPoolin  (None, 75, 75, 144)          0         ['concatenate_4[0][0]']       \n",
      " g2D)                                                                                             \n",
      "                                                                                                  \n",
      " conv2d_32 (Conv2D)          (None, 75, 75, 64)           9216      ['concatenate_4[0][0]']       \n",
      "                                                                                                  \n",
      " activation_21 (Activation)  (None, 75, 75, 48)           0         ['conv2d_33[0][0]']           \n",
      "                                                                                                  \n",
      " activation_22 (Activation)  (None, 75, 75, 64)           0         ['conv2d_35[0][0]']           \n",
      "                                                                                                  \n",
      " conv2d_37 (Conv2D)          (None, 75, 75, 32)           4608      ['max_pooling2d_6[0][0]']     \n",
      "                                                                                                  \n",
      " activation_20 (Activation)  (None, 75, 75, 64)           0         ['conv2d_32[0][0]']           \n",
      "                                                                                                  \n",
      " depthwise_separable_conv2d  (None, 75, 75, 16)           1600      ['activation_21[0][0]']       \n",
      " _10 (DepthwiseSeparableCon                                                                       \n",
      " v2D)                                                                                             \n",
      "                                                                                                  \n",
      " depthwise_separable_conv2d  (None, 75, 75, 32)           3168      ['activation_22[0][0]']       \n",
      " _11 (DepthwiseSeparableCon                                                                       \n",
      " v2D)                                                                                             \n",
      "                                                                                                  \n",
      " activation_23 (Activation)  (None, 75, 75, 32)           0         ['conv2d_37[0][0]']           \n",
      "                                                                                                  \n",
      " concatenate_5 (Concatenate  (None, 75, 75, 144)          0         ['activation_20[0][0]',       \n",
      " )                                                                   'depthwise_separable_conv2d_1\n",
      "                                                                    0[0][0]',                     \n",
      "                                                                     'depthwise_separable_conv2d_1\n",
      "                                                                    1[0][0]',                     \n",
      "                                                                     'activation_23[0][0]']       \n",
      "                                                                                                  \n",
      " layer_normalization (Layer  (None, 75, 75, 144)          288       ['concatenate_5[0][0]']       \n",
      " Normalization)                                                                                   \n",
      "                                                                                                  \n",
      " global_average_pooling2d (  (None, 144)                  0         ['layer_normalization[0][0]'] \n",
      " GlobalAveragePooling2D)                                                                          \n",
      "                                                                                                  \n",
      " dense (Dense)               (None, 128)                  18560     ['global_average_pooling2d[0][\n",
      "                                                                    0]']                          \n",
      "                                                                                                  \n",
      " dropout (Dropout)           (None, 128)                  0         ['dense[0][0]']               \n",
      "                                                                                                  \n",
      " dense_1 (Dense)             (None, 3)                    387       ['dropout[0][0]']             \n",
      "                                                                                                  \n",
      "==================================================================================================\n",
      "Total params: 249635 (975.14 KB)\n",
      "Trainable params: 249635 (975.14 KB)\n",
      "Non-trainable params: 0 (0.00 Byte)\n",
      "__________________________________________________________________________________________________\n"
     ]
    }
   ],
   "source": [
    "model = Model (inputs=input, outputs =output)\n",
    "model.summary()"
   ]
  },
  {
   "cell_type": "code",
   "execution_count": 14,
   "id": "4a56a2fc",
   "metadata": {
    "execution": {
     "iopub.execute_input": "2024-02-18T12:44:07.326625Z",
     "iopub.status.busy": "2024-02-18T12:44:07.326287Z",
     "iopub.status.idle": "2024-02-18T12:44:07.330496Z",
     "shell.execute_reply": "2024-02-18T12:44:07.329648Z"
    },
    "id": "qxnjxaIjNF3y",
    "papermill": {
     "duration": 0.037906,
     "end_time": "2024-02-18T12:44:07.332526",
     "exception": false,
     "start_time": "2024-02-18T12:44:07.294620",
     "status": "completed"
    },
    "tags": []
   },
   "outputs": [],
   "source": [
    "callback = tf.keras.callbacks.EarlyStopping(monitor='val_loss', patience=10)"
   ]
  },
  {
   "cell_type": "code",
   "execution_count": 15,
   "id": "abc35a81",
   "metadata": {
    "execution": {
     "iopub.execute_input": "2024-02-18T12:44:07.395198Z",
     "iopub.status.busy": "2024-02-18T12:44:07.394943Z",
     "iopub.status.idle": "2024-02-18T12:44:07.399095Z",
     "shell.execute_reply": "2024-02-18T12:44:07.398228Z"
    },
    "papermill": {
     "duration": 0.037588,
     "end_time": "2024-02-18T12:44:07.401062",
     "exception": false,
     "start_time": "2024-02-18T12:44:07.363474",
     "status": "completed"
    },
    "tags": []
   },
   "outputs": [],
   "source": [
    "lr_schedule = keras.optimizers.schedules.ExponentialDecay(\n",
    "    initial_learning_rate=1e-2,\n",
    "    decay_steps=10000,\n",
    "    decay_rate=0.9)"
   ]
  },
  {
   "cell_type": "code",
   "execution_count": 16,
   "id": "10d41a66",
   "metadata": {
    "execution": {
     "iopub.execute_input": "2024-02-18T12:44:07.463941Z",
     "iopub.status.busy": "2024-02-18T12:44:07.463649Z",
     "iopub.status.idle": "2024-02-18T12:44:07.468106Z",
     "shell.execute_reply": "2024-02-18T12:44:07.467309Z"
    },
    "papermill": {
     "duration": 0.038282,
     "end_time": "2024-02-18T12:44:07.469921",
     "exception": false,
     "start_time": "2024-02-18T12:44:07.431639",
     "status": "completed"
    },
    "tags": []
   },
   "outputs": [],
   "source": [
    "def step_decay(epoch):\n",
    "    initial_lrate = 0.1\n",
    "    drop = 0.5\n",
    "    epochs_drop = 10.0\n",
    "    lrate = initial_lrate * math.pow(drop, math.floor((1+epoch)/epochs_drop))\n",
    "    return lrate"
   ]
  },
  {
   "cell_type": "code",
   "execution_count": 17,
   "id": "bf7f8ed3",
   "metadata": {
    "execution": {
     "iopub.execute_input": "2024-02-18T12:44:07.570970Z",
     "iopub.status.busy": "2024-02-18T12:44:07.570623Z",
     "iopub.status.idle": "2024-02-18T12:44:07.575651Z",
     "shell.execute_reply": "2024-02-18T12:44:07.574884Z"
    },
    "papermill": {
     "duration": 0.038401,
     "end_time": "2024-02-18T12:44:07.577540",
     "exception": false,
     "start_time": "2024-02-18T12:44:07.539139",
     "status": "completed"
    },
    "tags": []
   },
   "outputs": [],
   "source": [
    "from tensorflow.keras.callbacks import LearningRateScheduler\n",
    "import math\n",
    "lrate = LearningRateScheduler(step_decay)\n",
    "callbacks_list = [lrate]"
   ]
  },
  {
   "cell_type": "code",
   "execution_count": 18,
   "id": "85446eba",
   "metadata": {
    "execution": {
     "iopub.execute_input": "2024-02-18T12:44:07.641183Z",
     "iopub.status.busy": "2024-02-18T12:44:07.640906Z",
     "iopub.status.idle": "2024-02-18T12:44:07.663676Z",
     "shell.execute_reply": "2024-02-18T12:44:07.662834Z"
    },
    "id": "7qic40JXNF3y",
    "papermill": {
     "duration": 0.057228,
     "end_time": "2024-02-18T12:44:07.665606",
     "exception": false,
     "start_time": "2024-02-18T12:44:07.608378",
     "status": "completed"
    },
    "tags": []
   },
   "outputs": [],
   "source": [
    "model.compile(\n",
    "    loss=keras.losses.CategoricalCrossentropy(),optimizer = keras.optimizers.Adam()\n",
    ",\n",
    "    metrics=[keras.metrics.CategoricalAccuracy(name=\"accuracy\")],\n",
    ")"
   ]
  },
  {
   "cell_type": "code",
   "execution_count": 19,
   "id": "460a6cb6",
   "metadata": {
    "execution": {
     "iopub.execute_input": "2024-02-18T12:44:07.728148Z",
     "iopub.status.busy": "2024-02-18T12:44:07.727872Z",
     "iopub.status.idle": "2024-02-18T13:07:33.324999Z",
     "shell.execute_reply": "2024-02-18T13:07:33.324060Z"
    },
    "id": "kUox8hWbSjqX",
    "outputId": "164b0024-0167-4ade-fffa-de8c8c095045",
    "papermill": {
     "duration": 1405.630713,
     "end_time": "2024-02-18T13:07:33.327055",
     "exception": false,
     "start_time": "2024-02-18T12:44:07.696342",
     "status": "completed"
    },
    "tags": []
   },
   "outputs": [
    {
     "name": "stdout",
     "output_type": "stream",
     "text": [
      "Epoch 1/50\n"
     ]
    },
    {
     "name": "stderr",
     "output_type": "stream",
     "text": [
      "WARNING: All log messages before absl::InitializeLog() is called are written to STDERR\n",
      "I0000 00:00:1708260258.427841      90 device_compiler.h:186] Compiled cluster using XLA!  This line is logged at most once for the lifetime of the process.\n"
     ]
    },
    {
     "name": "stdout",
     "output_type": "stream",
     "text": [
      "102/102 [==============================] - 51s 317ms/step - loss: 1.2241 - accuracy: 0.3528 - val_loss: 1.0715 - val_accuracy: 0.3918\n",
      "Epoch 2/50\n",
      "102/102 [==============================] - 28s 269ms/step - loss: 1.0817 - accuracy: 0.4122 - val_loss: 1.0323 - val_accuracy: 0.4495\n",
      "Epoch 3/50\n",
      "102/102 [==============================] - 28s 270ms/step - loss: 1.0116 - accuracy: 0.4768 - val_loss: 0.9839 - val_accuracy: 0.5120\n",
      "Epoch 4/50\n",
      "102/102 [==============================] - 28s 270ms/step - loss: 0.9255 - accuracy: 0.5515 - val_loss: 0.8653 - val_accuracy: 0.6058\n",
      "Epoch 5/50\n",
      "102/102 [==============================] - 28s 270ms/step - loss: 0.8697 - accuracy: 0.6121 - val_loss: 0.8642 - val_accuracy: 0.6178\n",
      "Epoch 6/50\n",
      "102/102 [==============================] - 28s 270ms/step - loss: 0.8605 - accuracy: 0.6164 - val_loss: 0.9265 - val_accuracy: 0.5000\n",
      "Epoch 7/50\n",
      "102/102 [==============================] - 28s 270ms/step - loss: 0.6603 - accuracy: 0.7287 - val_loss: 0.4607 - val_accuracy: 0.8438\n",
      "Epoch 8/50\n",
      "102/102 [==============================] - 28s 270ms/step - loss: 0.4169 - accuracy: 0.8453 - val_loss: 0.3426 - val_accuracy: 0.8558\n",
      "Epoch 9/50\n",
      "102/102 [==============================] - 28s 270ms/step - loss: 0.4029 - accuracy: 0.8400 - val_loss: 0.3639 - val_accuracy: 0.8606\n",
      "Epoch 10/50\n",
      "102/102 [==============================] - 28s 270ms/step - loss: 0.2538 - accuracy: 0.9074 - val_loss: 0.1945 - val_accuracy: 0.9351\n",
      "Epoch 11/50\n",
      "102/102 [==============================] - 28s 270ms/step - loss: 0.2157 - accuracy: 0.9268 - val_loss: 0.1403 - val_accuracy: 0.9567\n",
      "Epoch 12/50\n",
      "102/102 [==============================] - 28s 270ms/step - loss: 0.1827 - accuracy: 0.9388 - val_loss: 0.1487 - val_accuracy: 0.9303\n",
      "Epoch 13/50\n",
      "102/102 [==============================] - 28s 270ms/step - loss: 0.1970 - accuracy: 0.9274 - val_loss: 0.1771 - val_accuracy: 0.9471\n",
      "Epoch 14/50\n",
      "102/102 [==============================] - 28s 269ms/step - loss: 0.1383 - accuracy: 0.9554 - val_loss: 0.2572 - val_accuracy: 0.9014\n",
      "Epoch 15/50\n",
      "102/102 [==============================] - 28s 270ms/step - loss: 0.1153 - accuracy: 0.9689 - val_loss: 0.1055 - val_accuracy: 0.9519\n",
      "Epoch 16/50\n",
      "102/102 [==============================] - 28s 269ms/step - loss: 0.1342 - accuracy: 0.9566 - val_loss: 0.0663 - val_accuracy: 0.9784\n",
      "Epoch 17/50\n",
      "102/102 [==============================] - 28s 270ms/step - loss: 0.0713 - accuracy: 0.9837 - val_loss: 0.0609 - val_accuracy: 0.9856\n",
      "Epoch 18/50\n",
      "102/102 [==============================] - 28s 270ms/step - loss: 0.0634 - accuracy: 0.9846 - val_loss: 0.0631 - val_accuracy: 0.9856\n",
      "Epoch 19/50\n",
      "102/102 [==============================] - 28s 270ms/step - loss: 0.0921 - accuracy: 0.9745 - val_loss: 0.0691 - val_accuracy: 0.9784\n",
      "Epoch 20/50\n",
      "102/102 [==============================] - 28s 270ms/step - loss: 0.0662 - accuracy: 0.9819 - val_loss: 0.0635 - val_accuracy: 0.9784\n",
      "Epoch 21/50\n",
      "102/102 [==============================] - 28s 271ms/step - loss: 0.0512 - accuracy: 0.9859 - val_loss: 0.0260 - val_accuracy: 0.9904\n",
      "Epoch 22/50\n",
      "102/102 [==============================] - 28s 270ms/step - loss: 0.0726 - accuracy: 0.9797 - val_loss: 0.0551 - val_accuracy: 0.9832\n",
      "Epoch 23/50\n",
      "102/102 [==============================] - 28s 270ms/step - loss: 0.0963 - accuracy: 0.9723 - val_loss: 0.0463 - val_accuracy: 0.9856\n",
      "Epoch 24/50\n",
      "102/102 [==============================] - 28s 270ms/step - loss: 0.0569 - accuracy: 0.9828 - val_loss: 0.0555 - val_accuracy: 0.9808\n",
      "Epoch 25/50\n",
      "102/102 [==============================] - 28s 271ms/step - loss: 0.0631 - accuracy: 0.9803 - val_loss: 0.0272 - val_accuracy: 0.9976\n",
      "Epoch 26/50\n",
      "102/102 [==============================] - 28s 270ms/step - loss: 0.0650 - accuracy: 0.9825 - val_loss: 0.0386 - val_accuracy: 0.9904\n",
      "Epoch 27/50\n",
      "102/102 [==============================] - 28s 270ms/step - loss: 0.0288 - accuracy: 0.9932 - val_loss: 0.0249 - val_accuracy: 0.9904\n",
      "Epoch 28/50\n",
      "102/102 [==============================] - 28s 270ms/step - loss: 0.0457 - accuracy: 0.9886 - val_loss: 0.0497 - val_accuracy: 0.9784\n",
      "Epoch 29/50\n",
      "102/102 [==============================] - 28s 270ms/step - loss: 0.0785 - accuracy: 0.9775 - val_loss: 0.0938 - val_accuracy: 0.9663\n",
      "Epoch 30/50\n",
      "102/102 [==============================] - 28s 270ms/step - loss: 0.0583 - accuracy: 0.9831 - val_loss: 0.0481 - val_accuracy: 0.9784\n",
      "Epoch 31/50\n",
      "102/102 [==============================] - 28s 271ms/step - loss: 0.0503 - accuracy: 0.9859 - val_loss: 0.0571 - val_accuracy: 0.9856\n",
      "Epoch 32/50\n",
      "102/102 [==============================] - 28s 271ms/step - loss: 0.0300 - accuracy: 0.9911 - val_loss: 0.0631 - val_accuracy: 0.9856\n",
      "Epoch 33/50\n",
      "102/102 [==============================] - 28s 270ms/step - loss: 0.0437 - accuracy: 0.9877 - val_loss: 0.0951 - val_accuracy: 0.9760\n",
      "Epoch 34/50\n",
      "102/102 [==============================] - 28s 271ms/step - loss: 0.1146 - accuracy: 0.9659 - val_loss: 0.0893 - val_accuracy: 0.9688\n",
      "Epoch 35/50\n",
      "102/102 [==============================] - 28s 270ms/step - loss: 0.0512 - accuracy: 0.9868 - val_loss: 0.0219 - val_accuracy: 0.9928\n",
      "Epoch 36/50\n",
      "102/102 [==============================] - 28s 270ms/step - loss: 0.0425 - accuracy: 0.9902 - val_loss: 0.0961 - val_accuracy: 0.9760\n",
      "Epoch 37/50\n",
      "102/102 [==============================] - 28s 270ms/step - loss: 0.0552 - accuracy: 0.9843 - val_loss: 0.0937 - val_accuracy: 0.9784\n",
      "Epoch 38/50\n",
      "102/102 [==============================] - 28s 270ms/step - loss: 0.0536 - accuracy: 0.9825 - val_loss: 0.1293 - val_accuracy: 0.9615\n",
      "Epoch 39/50\n",
      "102/102 [==============================] - 28s 270ms/step - loss: 0.0435 - accuracy: 0.9883 - val_loss: 0.0908 - val_accuracy: 0.9736\n",
      "Epoch 40/50\n",
      "102/102 [==============================] - 28s 270ms/step - loss: 0.0454 - accuracy: 0.9889 - val_loss: 0.0451 - val_accuracy: 0.9856\n",
      "Epoch 41/50\n",
      "102/102 [==============================] - 28s 270ms/step - loss: 0.0608 - accuracy: 0.9825 - val_loss: 0.0440 - val_accuracy: 0.9856\n",
      "Epoch 42/50\n",
      "102/102 [==============================] - 28s 270ms/step - loss: 0.0577 - accuracy: 0.9868 - val_loss: 0.0543 - val_accuracy: 0.9832\n",
      "Epoch 43/50\n",
      "102/102 [==============================] - 28s 270ms/step - loss: 0.0277 - accuracy: 0.9923 - val_loss: 0.0502 - val_accuracy: 0.9784\n",
      "Epoch 44/50\n",
      "102/102 [==============================] - 28s 270ms/step - loss: 0.0182 - accuracy: 0.9948 - val_loss: 0.0511 - val_accuracy: 0.9832\n",
      "Epoch 45/50\n",
      "102/102 [==============================] - 28s 270ms/step - loss: 0.0190 - accuracy: 0.9966 - val_loss: 0.0787 - val_accuracy: 0.9712\n",
      "Epoch 46/50\n",
      "102/102 [==============================] - 28s 271ms/step - loss: 0.0249 - accuracy: 0.9923 - val_loss: 0.0912 - val_accuracy: 0.9712\n",
      "Epoch 47/50\n",
      "102/102 [==============================] - 28s 270ms/step - loss: 0.0931 - accuracy: 0.9745 - val_loss: 0.0505 - val_accuracy: 0.9832\n",
      "Epoch 48/50\n",
      "102/102 [==============================] - 28s 270ms/step - loss: 0.0452 - accuracy: 0.9871 - val_loss: 0.0558 - val_accuracy: 0.9712\n",
      "Epoch 49/50\n",
      "102/102 [==============================] - 28s 270ms/step - loss: 0.0653 - accuracy: 0.9806 - val_loss: 0.0694 - val_accuracy: 0.9663\n",
      "Epoch 50/50\n",
      "102/102 [==============================] - 28s 270ms/step - loss: 0.0395 - accuracy: 0.9898 - val_loss: 0.0515 - val_accuracy: 0.9856\n"
     ]
    }
   ],
   "source": [
    "history = model.fit(train_ds,validation_data=val_ds,batch_size=32,epochs=50,verbose=1)"
   ]
  },
  {
   "cell_type": "code",
   "execution_count": 20,
   "id": "597e9646",
   "metadata": {
    "execution": {
     "iopub.execute_input": "2024-02-18T13:07:34.234922Z",
     "iopub.status.busy": "2024-02-18T13:07:34.234549Z",
     "iopub.status.idle": "2024-02-18T13:07:39.092245Z",
     "shell.execute_reply": "2024-02-18T13:07:39.091115Z"
    },
    "id": "MMkmRvtYNF32",
    "papermill": {
     "duration": 5.302156,
     "end_time": "2024-02-18T13:07:39.094627",
     "exception": false,
     "start_time": "2024-02-18T13:07:33.792471",
     "status": "completed"
    },
    "tags": []
   },
   "outputs": [],
   "source": [
    "from tensorflow.keras.utils import to_categorical\n",
    "y_pred = model.predict_generator(test_ds)\n",
    "y_pred2= to_categorical(np.argmax(y_pred, axis=1), 3)\n",
    "\n",
    "y_test= to_categorical(test_ds.labels, 3)\n",
    "\n",
    "# Using it in AUC\n",
    "y_pred1=(np.argmax(y_pred, axis=1))\n",
    "y_test1=(np.argmax(y_test, axis=1))"
   ]
  },
  {
   "cell_type": "code",
   "execution_count": 21,
   "id": "414de67b",
   "metadata": {
    "execution": {
     "iopub.execute_input": "2024-02-18T13:07:39.982563Z",
     "iopub.status.busy": "2024-02-18T13:07:39.981872Z",
     "iopub.status.idle": "2024-02-18T13:07:39.990397Z",
     "shell.execute_reply": "2024-02-18T13:07:39.989681Z"
    },
    "papermill": {
     "duration": 0.45526,
     "end_time": "2024-02-18T13:07:39.992349",
     "exception": false,
     "start_time": "2024-02-18T13:07:39.537089",
     "status": "completed"
    },
    "tags": []
   },
   "outputs": [],
   "source": [
    "import tensorflow\n",
    "import tensorflow as tf\n",
    "topn_test = np.argsort(y_pred, axis = 1)[:,-3:]\n",
    "top_n_test=np.mean(np.array([1 if y_test1[k] in topn_test[k] else 0 for k in range(len(topn_test))]))"
   ]
  },
  {
   "cell_type": "code",
   "execution_count": 22,
   "id": "a557de38",
   "metadata": {
    "execution": {
     "iopub.execute_input": "2024-02-18T13:07:40.928848Z",
     "iopub.status.busy": "2024-02-18T13:07:40.928476Z",
     "iopub.status.idle": "2024-02-18T13:07:40.935240Z",
     "shell.execute_reply": "2024-02-18T13:07:40.934366Z"
    },
    "papermill": {
     "duration": 0.453494,
     "end_time": "2024-02-18T13:07:40.937282",
     "exception": false,
     "start_time": "2024-02-18T13:07:40.483788",
     "status": "completed"
    },
    "tags": []
   },
   "outputs": [
    {
     "data": {
      "text/plain": [
       "1.0"
      ]
     },
     "execution_count": 22,
     "metadata": {},
     "output_type": "execute_result"
    }
   ],
   "source": [
    "top_n_test"
   ]
  },
  {
   "cell_type": "code",
   "execution_count": 23,
   "id": "b218920d",
   "metadata": {
    "execution": {
     "iopub.execute_input": "2024-02-18T13:07:41.824141Z",
     "iopub.status.busy": "2024-02-18T13:07:41.823792Z",
     "iopub.status.idle": "2024-02-18T13:07:41.828464Z",
     "shell.execute_reply": "2024-02-18T13:07:41.827538Z"
    },
    "id": "5T7AcO-qNF39",
    "papermill": {
     "duration": 0.453517,
     "end_time": "2024-02-18T13:07:41.830359",
     "exception": false,
     "start_time": "2024-02-18T13:07:41.376842",
     "status": "completed"
    },
    "tags": []
   },
   "outputs": [],
   "source": [
    "# Computing the Accuracy Score  : ((TP + TN) / float(TP + TN + FP + FN))\n",
    "def Accuracy(y_test , y_pred):\n",
    "    AccScore = accuracy_score(y_test, y_pred, normalize=True)\n",
    "    return AccScore"
   ]
  },
  {
   "cell_type": "code",
   "execution_count": 24,
   "id": "c6f39884",
   "metadata": {
    "execution": {
     "iopub.execute_input": "2024-02-18T13:07:42.777952Z",
     "iopub.status.busy": "2024-02-18T13:07:42.777597Z",
     "iopub.status.idle": "2024-02-18T13:07:42.782270Z",
     "shell.execute_reply": "2024-02-18T13:07:42.781383Z"
    },
    "id": "F4ybNB84NF3-",
    "papermill": {
     "duration": 0.513197,
     "end_time": "2024-02-18T13:07:42.784256",
     "exception": false,
     "start_time": "2024-02-18T13:07:42.271059",
     "status": "completed"
    },
    "tags": []
   },
   "outputs": [],
   "source": [
    "#Computing the Precision metric (Some times called Specificity): #(True Positives / float(True Positives + False Posivites))  \n",
    "def macro_precision(y_test , y_pred):\n",
    "    PrecisionScore = precision_score(y_test, y_pred, average='macro') \n",
    "    return PrecisionScore"
   ]
  },
  {
   "cell_type": "code",
   "execution_count": 25,
   "id": "d7969677",
   "metadata": {
    "execution": {
     "iopub.execute_input": "2024-02-18T13:07:43.692030Z",
     "iopub.status.busy": "2024-02-18T13:07:43.691516Z",
     "iopub.status.idle": "2024-02-18T13:07:43.699179Z",
     "shell.execute_reply": "2024-02-18T13:07:43.698391Z"
    },
    "id": "jGSq3v5gNF3_",
    "papermill": {
     "duration": 0.473001,
     "end_time": "2024-02-18T13:07:43.702403",
     "exception": false,
     "start_time": "2024-02-18T13:07:43.229402",
     "status": "completed"
    },
    "tags": []
   },
   "outputs": [],
   "source": [
    "#Computing the Recall Score : (Some times called Sensitivity) (TP / float(TP + FN))   1 / 1+2  \n",
    "def macro_recall(y_test , y_pred):\n",
    "    RecallScore = recall_score(y_test, y_pred, average='macro') \n",
    "    return  RecallScore"
   ]
  },
  {
   "cell_type": "code",
   "execution_count": 26,
   "id": "7c520926",
   "metadata": {
    "execution": {
     "iopub.execute_input": "2024-02-18T13:07:44.593566Z",
     "iopub.status.busy": "2024-02-18T13:07:44.593194Z",
     "iopub.status.idle": "2024-02-18T13:07:44.598062Z",
     "shell.execute_reply": "2024-02-18T13:07:44.597198Z"
    },
    "id": "zbng8rzRNF3_",
    "papermill": {
     "duration": 0.447945,
     "end_time": "2024-02-18T13:07:44.600523",
     "exception": false,
     "start_time": "2024-02-18T13:07:44.152578",
     "status": "completed"
    },
    "tags": []
   },
   "outputs": [],
   "source": [
    "#Computing the F1 Score  : 2 * (precision * recall) / (precision + recall)\n",
    "def macro_F1Score(y_test , y_pred):\n",
    "    F1Score = f1_score(y_test, y_pred, average='macro') \n",
    "    return F1Score"
   ]
  },
  {
   "cell_type": "code",
   "execution_count": 27,
   "id": "b63979a9",
   "metadata": {
    "execution": {
     "iopub.execute_input": "2024-02-18T13:07:45.549494Z",
     "iopub.status.busy": "2024-02-18T13:07:45.549115Z",
     "iopub.status.idle": "2024-02-18T13:07:45.556382Z",
     "shell.execute_reply": "2024-02-18T13:07:45.555442Z"
    },
    "id": "SWbpYe9ENF4A",
    "papermill": {
     "duration": 0.447318,
     "end_time": "2024-02-18T13:07:45.558361",
     "exception": false,
     "start_time": "2024-02-18T13:07:45.111043",
     "status": "completed"
    },
    "tags": []
   },
   "outputs": [],
   "source": [
    "from sklearn.metrics import roc_auc_score\n",
    "\n",
    "# Calculating Area under the curve\n",
    "def AUC(actual_class, pred_class, average = \"micro\"):\n",
    "    \n",
    "    #Making a set of all the unique classes \n",
    "    unique_class = set(actual_class)\n",
    "    roc_auc_dict = {}\n",
    "    for per_class in unique_class:\n",
    "        \n",
    "        #Making a list of all the classes except the current class \n",
    "        other_class = [x for x in unique_class if x != per_class]\n",
    "\n",
    "        #Making the current class with label 1 and all other classes as a label 0\n",
    "        new_actual_class = [0 if x in other_class else 1 for x in actual_class]\n",
    "        new_pred_class = [0 if x in other_class else 1 for x in pred_class]\n",
    "\n",
    "        # Calculating the roc_auc_score\n",
    "        roc_auc = roc_auc_score(new_actual_class, new_pred_class, average = average)\n",
    "        roc_auc_dict[per_class] = roc_auc\n",
    "\n",
    "    return roc_auc_dict"
   ]
  },
  {
   "cell_type": "code",
   "execution_count": 28,
   "id": "8e7ca11f",
   "metadata": {
    "execution": {
     "iopub.execute_input": "2024-02-18T13:07:46.440617Z",
     "iopub.status.busy": "2024-02-18T13:07:46.440237Z",
     "iopub.status.idle": "2024-02-18T13:07:47.595835Z",
     "shell.execute_reply": "2024-02-18T13:07:47.594794Z"
    },
    "id": "OIJ_0Cd3NF4B",
    "outputId": "1f5d13ea-6730-4838-d974-3e03fa9452fc",
    "papermill": {
     "duration": 1.596839,
     "end_time": "2024-02-18T13:07:47.598014",
     "exception": false,
     "start_time": "2024-02-18T13:07:46.001175",
     "status": "completed"
    },
    "tags": []
   },
   "outputs": [
    {
     "name": "stdout",
     "output_type": "stream",
     "text": [
      "***** Model Evaluations Details ******** \n",
      "\n",
      "Test loss, Test acc :  [0.03192809224128723, 0.9851852059364319]\n",
      "******************************\n",
      "Accurayc  :  0.9851851851851852\n",
      "******************************\n",
      "Precision Score is :  0.9843412211510371\n",
      "******************************\n",
      "Recall Scores is :  0.9864285088871377\n",
      "******************************\n",
      "F1 Score is :  0.9852447139278544\n",
      "******************************\n",
      "AUC Score is :  {0: 0.9876543209876543, 1: 0.995049504950495, 2: 0.9858156028368794}\n"
     ]
    }
   ],
   "source": [
    "print(\"***** Model Evaluations Details ******** \\n\")\n",
    "print(\"Test loss, Test acc : \" , model.evaluate_generator(test_ds)) \n",
    "print(\"******************************\")\n",
    "print(\"Accurayc  : \" , Accuracy(test_ds.classes , y_pred1)) \n",
    "print(\"******************************\")\n",
    "print(\"Precision Score is : \" , macro_precision(test_ds.classes , y_pred1))\n",
    "print(\"******************************\")\n",
    "print(\"Recall Scores is : \" , macro_recall(test_ds.classes , y_pred1))\n",
    "print(\"******************************\")\n",
    "print('F1 Score is : ', macro_F1Score(test_ds.classes , y_pred1))\n",
    "print(\"******************************\")\n",
    "print('AUC Score is : ' , AUC(test_ds.classes, y_pred1))"
   ]
  },
  {
   "cell_type": "code",
   "execution_count": 29,
   "id": "45657ce4",
   "metadata": {
    "execution": {
     "iopub.execute_input": "2024-02-18T13:07:48.488688Z",
     "iopub.status.busy": "2024-02-18T13:07:48.488299Z",
     "iopub.status.idle": "2024-02-18T13:07:48.492679Z",
     "shell.execute_reply": "2024-02-18T13:07:48.491825Z"
    },
    "papermill": {
     "duration": 0.452699,
     "end_time": "2024-02-18T13:07:48.494769",
     "exception": false,
     "start_time": "2024-02-18T13:07:48.042070",
     "status": "completed"
    },
    "tags": []
   },
   "outputs": [],
   "source": [
    "labels=[\"Class 0\",\"Class 1\",\"Class 2\"]"
   ]
  },
  {
   "cell_type": "code",
   "execution_count": 30,
   "id": "bac3e7e2",
   "metadata": {
    "execution": {
     "iopub.execute_input": "2024-02-18T13:07:49.439466Z",
     "iopub.status.busy": "2024-02-18T13:07:49.438625Z",
     "iopub.status.idle": "2024-02-18T13:07:49.443354Z",
     "shell.execute_reply": "2024-02-18T13:07:49.442412Z"
    },
    "papermill": {
     "duration": 0.456306,
     "end_time": "2024-02-18T13:07:49.445302",
     "exception": false,
     "start_time": "2024-02-18T13:07:48.988996",
     "status": "completed"
    },
    "tags": []
   },
   "outputs": [],
   "source": [
    "labels=list(train_ds.class_indices.keys())"
   ]
  },
  {
   "cell_type": "code",
   "execution_count": 31,
   "id": "ef514014",
   "metadata": {
    "execution": {
     "iopub.execute_input": "2024-02-18T13:07:50.347208Z",
     "iopub.status.busy": "2024-02-18T13:07:50.346750Z",
     "iopub.status.idle": "2024-02-18T13:07:50.352398Z",
     "shell.execute_reply": "2024-02-18T13:07:50.351544Z"
    },
    "papermill": {
     "duration": 0.458959,
     "end_time": "2024-02-18T13:07:50.354371",
     "exception": false,
     "start_time": "2024-02-18T13:07:49.895412",
     "status": "completed"
    },
    "tags": []
   },
   "outputs": [
    {
     "data": {
      "text/plain": [
       "<KerasTensor: shape=(None, 128) dtype=float32 (created by layer 'dropout')>"
      ]
     },
     "execution_count": 31,
     "metadata": {},
     "output_type": "execute_result"
    }
   ],
   "source": [
    "x"
   ]
  },
  {
   "cell_type": "code",
   "execution_count": 32,
   "id": "5907ce9e",
   "metadata": {
    "execution": {
     "iopub.execute_input": "2024-02-18T13:07:51.344439Z",
     "iopub.status.busy": "2024-02-18T13:07:51.343738Z",
     "iopub.status.idle": "2024-02-18T13:07:51.357390Z",
     "shell.execute_reply": "2024-02-18T13:07:51.356356Z"
    },
    "papermill": {
     "duration": 0.503175,
     "end_time": "2024-02-18T13:07:51.359253",
     "exception": false,
     "start_time": "2024-02-18T13:07:50.856078",
     "status": "completed"
    },
    "tags": []
   },
   "outputs": [
    {
     "name": "stdout",
     "output_type": "stream",
     "text": [
      "              precision    recall  f1-score   support\n",
      "\n",
      "Early_Blight       0.98      0.99      0.98       162\n",
      "     Healthy       0.97      1.00      0.99       102\n",
      " Late_Blight       1.00      0.97      0.99       141\n",
      "\n",
      "    accuracy                           0.99       405\n",
      "   macro avg       0.98      0.99      0.99       405\n",
      "weighted avg       0.99      0.99      0.99       405\n",
      "\n"
     ]
    }
   ],
   "source": [
    "from sklearn.metrics import classification_report\n",
    "\n",
    "print(classification_report(test_ds.classes, y_pred1,target_names=labels))\n"
   ]
  },
  {
   "cell_type": "code",
   "execution_count": 33,
   "id": "dc0aa302",
   "metadata": {
    "execution": {
     "iopub.execute_input": "2024-02-18T13:07:52.246578Z",
     "iopub.status.busy": "2024-02-18T13:07:52.245940Z",
     "iopub.status.idle": "2024-02-18T13:07:52.254144Z",
     "shell.execute_reply": "2024-02-18T13:07:52.253126Z"
    },
    "papermill": {
     "duration": 0.451405,
     "end_time": "2024-02-18T13:07:52.256503",
     "exception": false,
     "start_time": "2024-02-18T13:07:51.805098",
     "status": "completed"
    },
    "tags": []
   },
   "outputs": [
    {
     "data": {
      "text/plain": [
       "RcParams({'axes.axisbelow': True,\n",
       "          'axes.edgecolor': '.8',\n",
       "          'axes.facecolor': 'white',\n",
       "          'axes.grid': True,\n",
       "          'axes.labelcolor': '.15',\n",
       "          'axes.linewidth': 1.0,\n",
       "          'figure.facecolor': 'white',\n",
       "          'font.family': ['sans-serif'],\n",
       "          'font.sans-serif': ['Arial',\n",
       "                              'Liberation Sans',\n",
       "                              'DejaVu Sans',\n",
       "                              'Bitstream Vera Sans',\n",
       "                              'sans-serif'],\n",
       "          'grid.color': '.8',\n",
       "          'grid.linestyle': '-',\n",
       "          'image.cmap': 'Greys',\n",
       "          'legend.frameon': False,\n",
       "          'legend.numpoints': 1,\n",
       "          'legend.scatterpoints': 1,\n",
       "          'lines.solid_capstyle': <CapStyle.round: 'round'>,\n",
       "          'text.color': '.15',\n",
       "          'xtick.color': '.15',\n",
       "          'xtick.direction': 'out',\n",
       "          'xtick.major.size': 0.0,\n",
       "          'xtick.minor.size': 0.0,\n",
       "          'ytick.color': '.15',\n",
       "          'ytick.direction': 'out',\n",
       "          'ytick.major.size': 0.0,\n",
       "          'ytick.minor.size': 0.0})"
      ]
     },
     "execution_count": 33,
     "metadata": {},
     "output_type": "execute_result"
    }
   ],
   "source": [
    "import seaborn as sns\n",
    "import matplotlib.pyplot as plt\n",
    "sns.set_style('whitegrid')\n",
    "plt.style.library['seaborn-whitegrid']"
   ]
  },
  {
   "cell_type": "code",
   "execution_count": 34,
   "id": "50cc8121",
   "metadata": {
    "execution": {
     "iopub.execute_input": "2024-02-18T13:07:53.200803Z",
     "iopub.status.busy": "2024-02-18T13:07:53.199795Z",
     "iopub.status.idle": "2024-02-18T13:07:53.205314Z",
     "shell.execute_reply": "2024-02-18T13:07:53.204374Z"
    },
    "papermill": {
     "duration": 0.494455,
     "end_time": "2024-02-18T13:07:53.207251",
     "exception": false,
     "start_time": "2024-02-18T13:07:52.712796",
     "status": "completed"
    },
    "tags": []
   },
   "outputs": [],
   "source": [
    "font = {'family' : 'normal',\n",
    "    'weight' : 'bold',\n",
    "    'size'   : 12}\n",
    "plt.rc('font', **font)"
   ]
  },
  {
   "cell_type": "code",
   "execution_count": 35,
   "id": "87ee9225",
   "metadata": {
    "execution": {
     "iopub.execute_input": "2024-02-18T13:07:54.178215Z",
     "iopub.status.busy": "2024-02-18T13:07:54.177374Z",
     "iopub.status.idle": "2024-02-18T13:07:54.188256Z",
     "shell.execute_reply": "2024-02-18T13:07:54.187177Z"
    },
    "papermill": {
     "duration": 0.459674,
     "end_time": "2024-02-18T13:07:54.190317",
     "exception": false,
     "start_time": "2024-02-18T13:07:53.730643",
     "status": "completed"
    },
    "tags": []
   },
   "outputs": [],
   "source": [
    "hist_df = pd.DataFrame(history.history) \n",
    "hist_csv_file = 'history.csv'\n",
    "with open(hist_csv_file, mode='w') as f:\n",
    "    hist_df.to_csv(f)"
   ]
  },
  {
   "cell_type": "code",
   "execution_count": 36,
   "id": "cd24b15d",
   "metadata": {
    "execution": {
     "iopub.execute_input": "2024-02-18T13:07:55.076421Z",
     "iopub.status.busy": "2024-02-18T13:07:55.075375Z",
     "iopub.status.idle": "2024-02-18T13:07:55.091513Z",
     "shell.execute_reply": "2024-02-18T13:07:55.090563Z"
    },
    "id": "V93RKPJKNF4C",
    "papermill": {
     "duration": 0.463877,
     "end_time": "2024-02-18T13:07:55.093621",
     "exception": false,
     "start_time": "2024-02-18T13:07:54.629744",
     "status": "completed"
    },
    "tags": []
   },
   "outputs": [],
   "source": [
    "def plot_roc_curve(y_test,y_pred):\n",
    "    n_classes=3\n",
    "    fpr = dict()\n",
    "    tpr = dict()\n",
    "    roc_auc = dict()\n",
    "    for i in range(n_classes):\n",
    "        fpr[i], tpr[i], _ = roc_curve(y_test[:, i], y_pred[:, i])\n",
    "        roc_auc[i] = auc(fpr[i], tpr[i])\n",
    "    fpr[\"micro\"], tpr[\"micro\"], _ = roc_curve(y_test.ravel(), y_pred.ravel())\n",
    "    roc_auc[\"micro\"] = auc(fpr[\"micro\"], tpr[\"micro\"])\n",
    "    lw=2\n",
    "    all_fpr = np.unique(np.concatenate([fpr[i] for i in range(n_classes)]))\n",
    "\n",
    "    mean_tpr = np.zeros_like(all_fpr)\n",
    "    for i in range(n_classes):\n",
    "        mean_tpr += np.interp(all_fpr, fpr[i], tpr[i])\n",
    "\n",
    "    mean_tpr /= n_classes\n",
    "\n",
    "    fpr[\"macro\"] = all_fpr\n",
    "    tpr[\"macro\"] = mean_tpr\n",
    "    roc_auc[\"macro\"] = auc(fpr[\"macro\"], tpr[\"macro\"])\n",
    "\n",
    "# Plot all ROC curves\n",
    "    plt.figure(figsize=(10, 10))\n",
    "    plt.plot(fpr[\"micro\"],\n",
    "    tpr[\"micro\"],\n",
    "    label=\"micro-average ROC curve (area = {0:0.2f})\".format(roc_auc[\"micro\"]),\n",
    "    color=\"deeppink\",\n",
    "    linestyle=\":\",\n",
    "    linewidth=4,)\n",
    "\n",
    "    plt.plot(fpr[\"macro\"],\n",
    "    tpr[\"macro\"],\n",
    "    label=\"macro-average ROC curve (area = {0:0.2f})\".format(roc_auc[\"macro\"]),\n",
    "    color=\"navy\",\n",
    "    linestyle=\":\",\n",
    "    linewidth=4,\n",
    ")\n",
    "    colors = cycle([\"aqua\", \"darkorange\", \"cornflowerblue\",'#9e9e9e','#b19a7e','#CD5C5C','#DFFF00',\n",
    "                   '#DE3163','#ff4d4d','#CCCCFF','#800080','#4F1D25','#ccffcc','#ff0040'\n",
    "                   ,'#4000ff','#0080ff','#ff8000','#666600','#b37700','#00b3b3','#003300','#FFC300','#A6F7BD',\n",
    "                   '#A6BDF7','#CAA6F7','#F7A6AC','#ADF7A6','#F5F7A6','#F7CCA6','#EE4949',\n",
    "                    '#DEA41F','#334471','#33716F','#343371','#772CE3','#B8BF20','#666B01','#0B6B01',\n",
    "                    '#F4B708','#179690'\n",
    "                   ])\n",
    "\n",
    "    for i, color in zip(range(n_classes), colors):\n",
    "        plt.plot(\n",
    "           fpr[i],\n",
    "           tpr[i],\n",
    "           color=color,\n",
    "           lw=lw,\n",
    "        label=\"ROC curve of class {0} (area = {1:0.2f})\".format(i, roc_auc[i]),\n",
    "    )\n",
    "\n",
    "    plt.plot([0, 1], [0, 1], \"k--\", lw=lw)\n",
    "    plt.xlim([0.0, 1.0])\n",
    "    plt.ylim([0.0, 1.05])\n",
    "    plt.xlabel(\"False Positive Rate\")\n",
    "    plt.ylabel(\"True Positive Rate\")\n",
    "    plt.legend(bbox_to_anchor=(1, 1))\n",
    "    plt.show()"
   ]
  },
  {
   "cell_type": "code",
   "execution_count": 37,
   "id": "806f5b9d",
   "metadata": {
    "execution": {
     "iopub.execute_input": "2024-02-18T13:07:56.033884Z",
     "iopub.status.busy": "2024-02-18T13:07:56.033520Z",
     "iopub.status.idle": "2024-02-18T13:07:56.039408Z",
     "shell.execute_reply": "2024-02-18T13:07:56.038562Z"
    },
    "id": "DEOkUcuvNF4C",
    "papermill": {
     "duration": 0.505971,
     "end_time": "2024-02-18T13:07:56.041133",
     "exception": false,
     "start_time": "2024-02-18T13:07:55.535162",
     "status": "completed"
    },
    "tags": []
   },
   "outputs": [],
   "source": [
    "def Acc_Loss_Graph(history):\n",
    "    # converting hsitory to dataframe\n",
    "    pd.DataFrame(history.history)\n",
    "\n",
    "    pd.DataFrame(history.history)[['accuracy', 'val_accuracy']].plot()\n",
    "    plt.title('Training Accuracy')\n",
    "    plt.xlabel('Epochs')\n",
    "    plt.ylabel('accuracy')\n",
    "\n",
    "    pd.DataFrame(history.history)[['loss', 'val_loss']].plot()\n",
    "    plt.title('Model Loss')\n",
    "    plt.xlabel('Epochs')\n",
    "    plt.ylabel('Loss')"
   ]
  },
  {
   "cell_type": "code",
   "execution_count": 38,
   "id": "00f4257a",
   "metadata": {
    "execution": {
     "iopub.execute_input": "2024-02-18T13:07:56.919047Z",
     "iopub.status.busy": "2024-02-18T13:07:56.918688Z",
     "iopub.status.idle": "2024-02-18T13:07:56.923018Z",
     "shell.execute_reply": "2024-02-18T13:07:56.922171Z"
    },
    "papermill": {
     "duration": 0.446992,
     "end_time": "2024-02-18T13:07:56.924944",
     "exception": false,
     "start_time": "2024-02-18T13:07:56.477952",
     "status": "completed"
    },
    "tags": []
   },
   "outputs": [],
   "source": [
    "labels=np.array(labels)"
   ]
  },
  {
   "cell_type": "code",
   "execution_count": 39,
   "id": "4eb71811",
   "metadata": {
    "execution": {
     "iopub.execute_input": "2024-02-18T13:07:57.876514Z",
     "iopub.status.busy": "2024-02-18T13:07:57.876123Z",
     "iopub.status.idle": "2024-02-18T13:07:57.881514Z",
     "shell.execute_reply": "2024-02-18T13:07:57.880582Z"
    },
    "id": "lGA3LmwQNF4D",
    "papermill": {
     "duration": 0.474557,
     "end_time": "2024-02-18T13:07:57.883489",
     "exception": false,
     "start_time": "2024-02-18T13:07:57.408932",
     "status": "completed"
    },
    "tags": []
   },
   "outputs": [],
   "source": [
    "def Confusion_Matrix(y_test , y_pred):\n",
    "    fig, ax = plt.subplots(figsize=(5,5))\n",
    "\n",
    "    #cnf_matrix = confusion_matrix()\n",
    "    disp = ConfusionMatrixDisplay.from_predictions(y_test, y_pred,display_labels=labels,ax=ax,xticks_rotation='vertical'\n",
    "                                                  ,cmap=\"Blues\")"
   ]
  },
  {
   "cell_type": "markdown",
   "id": "cc1c7d2d",
   "metadata": {
    "id": "-F5dvUt-NF4E",
    "papermill": {
     "duration": 0.490003,
     "end_time": "2024-02-18T13:07:58.820662",
     "exception": false,
     "start_time": "2024-02-18T13:07:58.330659",
     "status": "completed"
    },
    "tags": []
   },
   "source": []
  },
  {
   "cell_type": "code",
   "execution_count": 40,
   "id": "c05ace0c",
   "metadata": {
    "execution": {
     "iopub.execute_input": "2024-02-18T13:07:59.702366Z",
     "iopub.status.busy": "2024-02-18T13:07:59.701896Z",
     "iopub.status.idle": "2024-02-18T13:08:00.489555Z",
     "shell.execute_reply": "2024-02-18T13:08:00.488590Z"
    },
    "id": "xUfvuLXMNF4H",
    "outputId": "4035144f-3ba6-4f6e-c668-9492e1f00f8f",
    "papermill": {
     "duration": 1.22957,
     "end_time": "2024-02-18T13:08:00.491563",
     "exception": false,
     "start_time": "2024-02-18T13:07:59.261993",
     "status": "completed"
    },
    "tags": []
   },
   "outputs": [
    {
     "data": {
      "image/png": "[encoded data removed]",
      "text/plain": [
       "<Figure size 640x480 with 1 Axes>"
      ]
     },
     "metadata": {},
     "output_type": "display_data"
    },
    {
     "data": {
      "image/png": "[encoded data removed]",
      "text/plain": [
       "<Figure size 640x480 with 1 Axes>"
      ]
     },
     "metadata": {},
     "output_type": "display_data"
    }
   ],
   "source": [
    "Acc_Loss_Graph(history)"
   ]
  },
  {
   "cell_type": "code",
   "execution_count": 41,
   "id": "ee57fc2b",
   "metadata": {
    "execution": {
     "iopub.execute_input": "2024-02-18T13:08:01.372362Z",
     "iopub.status.busy": "2024-02-18T13:08:01.371956Z",
     "iopub.status.idle": "2024-02-18T13:08:01.734684Z",
     "shell.execute_reply": "2024-02-18T13:08:01.733723Z"
    },
    "id": "dsXTjrCQNF4I",
    "outputId": "90859e23-d618-45f8-f939-4e44e2a0d93c",
    "papermill": {
     "duration": 0.806031,
     "end_time": "2024-02-18T13:08:01.737596",
     "exception": false,
     "start_time": "2024-02-18T13:08:00.931565",
     "status": "completed"
    },
    "tags": []
   },
   "outputs": [
    {
     "data": {
      "image/png": "[encoded data removed]",
      "text/plain": [
       "<Figure size 1000x1000 with 1 Axes>"
      ]
     },
     "metadata": {},
     "output_type": "display_data"
    }
   ],
   "source": [
    "plot_roc_curve(y_test,y_pred2)"
   ]
  },
  {
   "cell_type": "code",
   "execution_count": 42,
   "id": "0a9a373b",
   "metadata": {
    "execution": {
     "iopub.execute_input": "2024-02-18T13:08:02.673304Z",
     "iopub.status.busy": "2024-02-18T13:08:02.672652Z",
     "iopub.status.idle": "2024-02-18T13:08:02.981002Z",
     "shell.execute_reply": "2024-02-18T13:08:02.980104Z"
    },
    "id": "Sv_qoovZNF4I",
    "outputId": "1ae0ce96-b37c-43b4-b3ca-33d66b1ae904",
    "papermill": {
     "duration": 0.755509,
     "end_time": "2024-02-18T13:08:02.982931",
     "exception": false,
     "start_time": "2024-02-18T13:08:02.227422",
     "status": "completed"
    },
    "tags": []
   },
   "outputs": [
    {
     "data": {
      "image/png": "[encoded data removed]",
      "text/plain": [
       "<Figure size 500x500 with 2 Axes>"
      ]
     },
     "metadata": {},
     "output_type": "display_data"
    }
   ],
   "source": [
    "Confusion_Matrix(test_ds.classes , y_pred1)"
   ]
  },
  {
   "cell_type": "code",
   "execution_count": 43,
   "id": "6f45568d",
   "metadata": {
    "execution": {
     "iopub.execute_input": "2024-02-18T13:08:03.892015Z",
     "iopub.status.busy": "2024-02-18T13:08:03.891658Z",
     "iopub.status.idle": "2024-02-18T13:08:03.897421Z",
     "shell.execute_reply": "2024-02-18T13:08:03.896537Z"
    },
    "papermill": {
     "duration": 0.471988,
     "end_time": "2024-02-18T13:08:03.899298",
     "exception": false,
     "start_time": "2024-02-18T13:08:03.427310",
     "status": "completed"
    },
    "tags": []
   },
   "outputs": [
    {
     "data": {
      "text/plain": [
       "array(['Early_Blight', 'Healthy', 'Late_Blight'], dtype='<U12')"
      ]
     },
     "execution_count": 43,
     "metadata": {},
     "output_type": "execute_result"
    }
   ],
   "source": [
    "labels"
   ]
  },
  {
   "cell_type": "code",
   "execution_count": 44,
   "id": "66e4e11c",
   "metadata": {
    "execution": {
     "iopub.execute_input": "2024-02-18T13:08:04.838129Z",
     "iopub.status.busy": "2024-02-18T13:08:04.837229Z",
     "iopub.status.idle": "2024-02-18T13:08:04.841940Z",
     "shell.execute_reply": "2024-02-18T13:08:04.841024Z"
    },
    "papermill": {
     "duration": 0.499366,
     "end_time": "2024-02-18T13:08:04.843921",
     "exception": false,
     "start_time": "2024-02-18T13:08:04.344555",
     "status": "completed"
    },
    "tags": []
   },
   "outputs": [],
   "source": [
    "target_name={0:\"Early_Blight\",1:\"Healthy\",2:\"Late_Blight\"}"
   ]
  },
  {
   "cell_type": "code",
   "execution_count": 45,
   "id": "e7fad310",
   "metadata": {
    "execution": {
     "iopub.execute_input": "2024-02-18T13:08:05.732560Z",
     "iopub.status.busy": "2024-02-18T13:08:05.731652Z",
     "iopub.status.idle": "2024-02-18T13:08:06.399171Z",
     "shell.execute_reply": "2024-02-18T13:08:06.398282Z"
    },
    "papermill": {
     "duration": 1.112286,
     "end_time": "2024-02-18T13:08:06.401397",
     "exception": false,
     "start_time": "2024-02-18T13:08:05.289111",
     "status": "completed"
    },
    "tags": []
   },
   "outputs": [],
   "source": [
    "from sklearn.manifold import TSNE\n",
    "tsne1 = TSNE(random_state = 42, n_components=2, verbose=0, perplexity=40, n_iter=300).fit_transform(y_pred)"
   ]
  },
  {
   "cell_type": "code",
   "execution_count": 46,
   "id": "f4eba920",
   "metadata": {
    "execution": {
     "iopub.execute_input": "2024-02-18T13:08:07.287230Z",
     "iopub.status.busy": "2024-02-18T13:08:07.286358Z",
     "iopub.status.idle": "2024-02-18T13:08:07.298984Z",
     "shell.execute_reply": "2024-02-18T13:08:07.298034Z"
    },
    "papermill": {
     "duration": 0.456394,
     "end_time": "2024-02-18T13:08:07.300860",
     "exception": false,
     "start_time": "2024-02-18T13:08:06.844466",
     "status": "completed"
    },
    "tags": []
   },
   "outputs": [],
   "source": [
    "# create dataframe\n",
    "cps_df = pd.DataFrame(columns=['CP1', 'CP2', 'target'],\n",
    "                       data=np.column_stack((tsne1, \n",
    "                                            y_test1)))# cast targets column to int\n",
    "cps_df.loc[:, 'target'] = cps_df.target.astype(int)\n",
    "cps_df.loc[:, 'target'] = cps_df.target.map(target_name)"
   ]
  },
  {
   "cell_type": "code",
   "execution_count": 47,
   "id": "0ca7bea3",
   "metadata": {
    "execution": {
     "iopub.execute_input": "2024-02-18T13:08:08.239868Z",
     "iopub.status.busy": "2024-02-18T13:08:08.239503Z",
     "iopub.status.idle": "2024-02-18T13:08:09.173659Z",
     "shell.execute_reply": "2024-02-18T13:08:09.172710Z"
    },
    "papermill": {
     "duration": 1.379639,
     "end_time": "2024-02-18T13:08:09.175790",
     "exception": false,
     "start_time": "2024-02-18T13:08:07.796151",
     "status": "completed"
    },
    "tags": []
   },
   "outputs": [
    {
     "data": {
      "text/plain": [
       "<seaborn.axisgrid.FacetGrid at 0x787dc00fab00>"
      ]
     },
     "execution_count": 47,
     "metadata": {},
     "output_type": "execute_result"
    },
    {
     "data": {
      "image/png": "[encoded data removed]",
      "text/plain": [
       "<Figure size 971.125x800 with 1 Axes>"
      ]
     },
     "metadata": {},
     "output_type": "display_data"
    }
   ],
   "source": [
    "import seaborn as sns\n",
    "d = {'color': [\"aqua\", \"darkorange\", \"cornflowerblue\",'#9e9e9e','#b19a7e','#CD5C5C','#DFFF00',\n",
    "                   '#DE3163','#ff4d4d','#CCCCFF','#800080','#4F1D25','#ccffcc','#ff0040'\n",
    "                   ,'#4000ff','#0080ff','#ff8000','#666600','#b37700','#00b3b3','#003300','#FFC300','#A6F7BD',\n",
    "                   '#A6BDF7','#CAA6F7','#F7A6AC','#ADF7A6','#F5F7A6','#F7CCA6','#EE4949',\n",
    "                    '#DEA41F','#334471','#33716F','#343371','#772CE3','#B8BF20','#666B01','#0B6B01',\n",
    "                    '#F4B708','#179690'] }\n",
    "grid = sns.FacetGrid(cps_df, hue=\"target\",hue_kws=d, height=8)\n",
    "grid.map(plt.scatter, 'CP1', 'CP2').add_legend()"
   ]
  },
  {
   "cell_type": "code",
   "execution_count": null,
   "id": "6735eca6",
   "metadata": {
    "papermill": {
     "duration": 0.444244,
     "end_time": "2024-02-18T13:08:10.062029",
     "exception": false,
     "start_time": "2024-02-18T13:08:09.617785",
     "status": "completed"
    },
    "tags": []
   },
   "outputs": [],
   "source": []
  }
 ],
 "metadata": {
  "kaggle": {
   "accelerator": "gpu",
   "dataSources": [
    {
     "datasetId": 1562973,
     "sourceId": 2574068,
     "sourceType": "datasetVersion"
    }
   ],
   "dockerImageVersionId": 30648,
   "isGpuEnabled": true,
   "isInternetEnabled": true,
   "language": "python",
   "sourceType": "notebook"
  },
  "kernelspec": {
   "display_name": "Python 3",
   "language": "python",
   "name": "python3"
  },
  "language_info": {
   "codemirror_mode": {
    "name": "ipython",
    "version": 3
   },
   "file_extension": ".py",
   "mimetype": "text/x-python",
   "name": "python",
   "nbconvert_exporter": "python",
   "pygments_lexer": "ipython3",
   "version": "3.10.13"
  },
  "papermill": {
   "default_parameters": {},
   "duration": 1467.25752,
   "end_time": "2024-02-18T13:08:13.187183",
   "environment_variables": {},
   "exception": null,
   "input_path": "__notebook__.ipynb",
   "output_path": "__notebook__.ipynb",
   "parameters": {},
   "start_time": "2024-02-18T12:43:45.929663",
   "version": "2.4.0"
  }
 },
 "nbformat": 4,
 "nbformat_minor": 5
}
